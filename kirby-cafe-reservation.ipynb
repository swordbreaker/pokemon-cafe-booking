{
 "cells": [
  {
   "cell_type": "code",
   "execution_count": 3,
   "metadata": {},
   "outputs": [
    {
     "name": "stdout",
     "output_type": "stream",
     "text": [
      "Collecting selenium\n",
      "  Downloading selenium-4.17.2-py3-none-any.whl.metadata (6.9 kB)\n",
      "Collecting urllib3<3,>=1.26 (from urllib3[socks]<3,>=1.26->selenium)\n",
      "  Downloading urllib3-2.2.0-py3-none-any.whl.metadata (6.4 kB)\n",
      "Collecting trio~=0.17 (from selenium)\n",
      "  Downloading trio-0.24.0-py3-none-any.whl.metadata (4.9 kB)\n",
      "Collecting trio-websocket~=0.9 (from selenium)\n",
      "  Downloading trio_websocket-0.11.1-py3-none-any.whl.metadata (4.7 kB)\n",
      "Collecting certifi>=2021.10.8 (from selenium)\n",
      "  Downloading certifi-2024.2.2-py3-none-any.whl.metadata (2.2 kB)\n",
      "Requirement already satisfied: typing_extensions>=4.9.0 in e:\\dev\\pokemon-cafe-booking\\.venv\\lib\\site-packages (from selenium) (4.9.0)\n",
      "Collecting attrs>=20.1.0 (from trio~=0.17->selenium)\n",
      "  Downloading attrs-23.2.0-py3-none-any.whl.metadata (9.5 kB)\n",
      "Collecting sortedcontainers (from trio~=0.17->selenium)\n",
      "  Downloading sortedcontainers-2.4.0-py2.py3-none-any.whl (29 kB)\n",
      "Collecting idna (from trio~=0.17->selenium)\n",
      "  Downloading idna-3.6-py3-none-any.whl.metadata (9.9 kB)\n",
      "Collecting outcome (from trio~=0.17->selenium)\n",
      "  Downloading outcome-1.3.0.post0-py2.py3-none-any.whl.metadata (2.6 kB)\n",
      "Collecting sniffio>=1.3.0 (from trio~=0.17->selenium)\n",
      "  Downloading sniffio-1.3.0-py3-none-any.whl (10 kB)\n",
      "Collecting cffi>=1.14 (from trio~=0.17->selenium)\n",
      "  Downloading cffi-1.16.0-cp39-cp39-win_amd64.whl.metadata (1.5 kB)\n",
      "Requirement already satisfied: exceptiongroup in e:\\dev\\pokemon-cafe-booking\\.venv\\lib\\site-packages (from trio~=0.17->selenium) (1.2.0)\n",
      "Collecting wsproto>=0.14 (from trio-websocket~=0.9->selenium)\n",
      "  Downloading wsproto-1.2.0-py3-none-any.whl (24 kB)\n",
      "Collecting pysocks!=1.5.7,<2.0,>=1.5.6 (from urllib3[socks]<3,>=1.26->selenium)\n",
      "  Downloading PySocks-1.7.1-py3-none-any.whl (16 kB)\n",
      "Collecting pycparser (from cffi>=1.14->trio~=0.17->selenium)\n",
      "  Downloading pycparser-2.21-py2.py3-none-any.whl (118 kB)\n",
      "     ---------------------------------------- 0.0/118.7 kB ? eta -:--:--\n",
      "     -------------------------------------- 118.7/118.7 kB 3.5 MB/s eta 0:00:00\n",
      "Collecting h11<1,>=0.9.0 (from wsproto>=0.14->trio-websocket~=0.9->selenium)\n",
      "  Downloading h11-0.14.0-py3-none-any.whl (58 kB)\n",
      "     ---------------------------------------- 0.0/58.3 kB ? eta -:--:--\n",
      "     ---------------------------------------- 58.3/58.3 kB 3.0 MB/s eta 0:00:00\n",
      "Downloading selenium-4.17.2-py3-none-any.whl (9.9 MB)\n",
      "   ---------------------------------------- 0.0/9.9 MB ? eta -:--:--\n",
      "   -- ------------------------------------- 0.6/9.9 MB 18.2 MB/s eta 0:00:01\n",
      "   ---- ----------------------------------- 1.2/9.9 MB 15.0 MB/s eta 0:00:01\n",
      "   ------- -------------------------------- 1.8/9.9 MB 14.2 MB/s eta 0:00:01\n",
      "   ------- -------------------------------- 1.8/9.9 MB 14.2 MB/s eta 0:00:01\n",
      "   --------- ------------------------------ 2.3/9.9 MB 10.7 MB/s eta 0:00:01\n",
      "   ----------- ---------------------------- 2.8/9.9 MB 10.6 MB/s eta 0:00:01\n",
      "   ------------- -------------------------- 3.4/9.9 MB 11.0 MB/s eta 0:00:01\n",
      "   ---------------- ----------------------- 4.0/9.9 MB 11.2 MB/s eta 0:00:01\n",
      "   ------------------ --------------------- 4.6/9.9 MB 11.4 MB/s eta 0:00:01\n",
      "   --------------------- ------------------ 5.2/9.9 MB 11.6 MB/s eta 0:00:01\n",
      "   ----------------------- ---------------- 5.9/9.9 MB 11.7 MB/s eta 0:00:01\n",
      "   -------------------------- ------------- 6.5/9.9 MB 11.6 MB/s eta 0:00:01\n",
      "   ---------------------------- ----------- 7.1/9.9 MB 11.9 MB/s eta 0:00:01\n",
      "   ------------------------------- -------- 7.7/9.9 MB 12.0 MB/s eta 0:00:01\n",
      "   --------------------------------- ------ 8.3/9.9 MB 11.9 MB/s eta 0:00:01\n",
      "   ------------------------------------ --- 8.9/9.9 MB 11.9 MB/s eta 0:00:01\n",
      "   ------------------------------------ --- 9.0/9.9 MB 12.0 MB/s eta 0:00:01\n",
      "   ------------------------------------- -- 9.2/9.9 MB 10.9 MB/s eta 0:00:01\n",
      "   -------------------------------------- - 9.6/9.9 MB 10.8 MB/s eta 0:00:01\n",
      "   ---------------------------------------- 9.9/9.9 MB 10.7 MB/s eta 0:00:00\n",
      "Downloading certifi-2024.2.2-py3-none-any.whl (163 kB)\n",
      "   ---------------------------------------- 0.0/163.8 kB ? eta -:--:--\n",
      "   --------------------------------------- 163.8/163.8 kB 10.2 MB/s eta 0:00:00\n",
      "Downloading trio-0.24.0-py3-none-any.whl (460 kB)\n",
      "   ---------------------------------------- 0.0/460.2 kB ? eta -:--:--\n",
      "   ---------------------------------------- 460.2/460.2 kB 9.6 MB/s eta 0:00:00\n",
      "Downloading trio_websocket-0.11.1-py3-none-any.whl (17 kB)\n",
      "Downloading urllib3-2.2.0-py3-none-any.whl (120 kB)\n",
      "   ---------------------------------------- 0.0/120.9 kB ? eta -:--:--\n",
      "   ---------------------------------------- 120.9/120.9 kB ? eta 0:00:00\n",
      "Downloading attrs-23.2.0-py3-none-any.whl (60 kB)\n",
      "   ---------------------------------------- 0.0/60.8 kB ? eta -:--:--\n",
      "   ---------------------------------------- 60.8/60.8 kB ? eta 0:00:00\n",
      "Downloading cffi-1.16.0-cp39-cp39-win_amd64.whl (181 kB)\n",
      "   ---------------------------------------- 0.0/181.6 kB ? eta -:--:--\n",
      "   --------------------------------------- 181.6/181.6 kB 10.7 MB/s eta 0:00:00\n",
      "Downloading idna-3.6-py3-none-any.whl (61 kB)\n",
      "   ---------------------------------------- 0.0/61.6 kB ? eta -:--:--\n",
      "   ---------------------------------------- 61.6/61.6 kB ? eta 0:00:00\n",
      "Downloading outcome-1.3.0.post0-py2.py3-none-any.whl (10 kB)\n",
      "Installing collected packages: sortedcontainers, urllib3, sniffio, pysocks, pycparser, idna, h11, certifi, attrs, wsproto, outcome, cffi, trio, trio-websocket, selenium\n",
      "Successfully installed attrs-23.2.0 certifi-2024.2.2 cffi-1.16.0 h11-0.14.0 idna-3.6 outcome-1.3.0.post0 pycparser-2.21 pysocks-1.7.1 selenium-4.17.2 sniffio-1.3.0 sortedcontainers-2.4.0 trio-0.24.0 trio-websocket-0.11.1 urllib3-2.2.0 wsproto-1.2.0\n",
      "Note: you may need to restart the kernel to use updated packages.\n"
     ]
    }
   ],
   "source": [
    "%pip install selenium"
   ]
  },
  {
   "cell_type": "markdown",
   "metadata": {},
   "source": [
    "I downloaded the edge drive manually over this [link](https://developer.microsoft.com/en-us/microsoft-edge/tools/webdriver/?form=MA13LH) and the unzipped it and put the Exe in the root of the repo."
   ]
  },
  {
   "cell_type": "code",
   "execution_count": 4,
   "metadata": {},
   "outputs": [],
   "source": [
    "from selenium import webdriver\n",
    "from selenium.webdriver.common.by import By\n",
    "from selenium.webdriver.support.ui import Select\n",
    "from selenium.webdriver.edge.options import Options\n",
    "from selenium.common.exceptions import NoSuchElementException\n",
    "from selenium.webdriver.common.action_chains import ActionChains\n",
    "\n",
    "def create_booking(day_of_month: int, month: int, num_of_guests: int):\n",
    "\n",
    "    website = \"https://kirbycafe-reserve.com/guest/tokyo/\"\n",
    "\n",
    "    edge_options = Options()\n",
    "    edge_options.add_experimental_option(\"detach\", True)\n",
    "    driver = webdriver.Edge(options=edge_options)\n",
    "\n",
    "    driver.get(website)\n",
    "\n",
    "    try:\n",
    "        driver.implicitly_wait(10)\n",
    "        driver.execute_script(\"window.scrollTo(0, document.body.scrollHeight);\")\n",
    "\n",
    "        # agree to terms\n",
    "        driver.find_element(By.XPATH, \"//label[contains(text(), '上記の内容を確認しました')]\").click()\n",
    "\n",
    "        # click on next\n",
    "        driver.find_element(By.CSS_SELECTOR, \"a.v-btn\").click()\n",
    "\n",
    "        # popup click on ok\n",
    "        driver.find_element(By.CSS_SELECTOR, \".v-card__actions button.v-btn\").click()\n",
    "        \n",
    "        # number of guests\n",
    "        driver.find_element(By.CSS_SELECTOR, \".reserve-card .layout div.v-input\").click()\n",
    "        driver.find_element(By.XPATH, \"//div[contains(@id, '\"+ str(num_of_guests) +\"')]\").click()\n",
    "\n",
    "        # select next month\n",
    "        driver.find_element(By.XPATH, \"//button//span[contains(text(), '\" + str(month) + \"月')]\").click()\n",
    "\n",
    "        # chnage language\n",
    "        driver.find_element(By.XPATH, \"//button//span//span[contains(text(), 'JP')]\").click()\n",
    "        driver.find_element(By.XPATH, \"//div//div[contains(text(), 'Eng')]\").click()\n",
    "\n",
    "    except NoSuchElementException as e:\n",
    "        print(e)\n",
    "        pass"
   ]
  },
  {
   "attachments": {},
   "cell_type": "markdown",
   "metadata": {},
   "source": [
    "## Step 4. Create the reservation \n",
    "\n",
    "Each iteration will create a reservation for the next month using the day_of_month as an input. The variable num_of_guest sets the number of people. Adjust these parameters to your needs. The variable num_of_iterations sets the number of iterations. The default is 2, so it will open two browser sessions, one after the other. If you want to create five consecutive attempts, set the num_of_iterations to 5. "
   ]
  },
  {
   "cell_type": "code",
   "execution_count": 5,
   "metadata": {},
   "outputs": [
    {
     "data": {
      "text/plain": [
       "[None]"
      ]
     },
     "execution_count": 5,
     "metadata": {},
     "output_type": "execute_result"
    }
   ],
   "source": [
    "num_iterations = 2\n",
    "next_month=3\n",
    "day_of_month='10'\n",
    "num_of_guests=2\n",
    "[create_booking(day_of_month, next_month, num_of_guests) for x in range(num_iterations)]"
   ]
  }
 ],
 "metadata": {
  "kernelspec": {
   "display_name": ".venv",
   "language": "python",
   "name": "python3"
  },
  "language_info": {
   "codemirror_mode": {
    "name": "ipython",
    "version": 3
   },
   "file_extension": ".py",
   "mimetype": "text/x-python",
   "name": "python",
   "nbconvert_exporter": "python",
   "pygments_lexer": "ipython3",
   "version": "3.9.13"
  },
  "orig_nbformat": 4
 },
 "nbformat": 4,
 "nbformat_minor": 2
}
