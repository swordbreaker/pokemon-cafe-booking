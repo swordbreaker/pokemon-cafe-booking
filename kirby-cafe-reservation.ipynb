{
 "cells": [
  {
   "cell_type": "markdown",
   "metadata": {},
   "source": [
    "I downloaded the edge drive manually over this [link](https://developer.microsoft.com/en-us/microsoft-edge/tools/webdriver/?form=MA13LH) and the unzipped it and put the Exe in the root of the repo."
   ]
  },
  {
   "cell_type": "code",
   "execution_count": null,
   "metadata": {},
   "outputs": [],
   "source": [
    "from selenium import webdriver\n",
    "from selenium.webdriver.common.by import By\n",
    "from selenium.webdriver.support.ui import Select\n",
    "from selenium.webdriver.edge.options import Options\n",
    "from selenium.common.exceptions import NoSuchElementException\n",
    "from selenium.webdriver.common.action_chains import ActionChains\n",
    "\n",
    "def create_booking(day_of_month: int, month: int, num_of_guests: int):\n",
    "\n",
    "    website = \"https://kirbycafe-reserve.com/guest/tokyo/\"\n",
    "\n",
    "    edge_options = Options()\n",
    "    edge_options.add_experimental_option(\"detach\", True)\n",
    "    driver = webdriver.Edge(options=edge_options)\n",
    "\n",
    "    driver.get(website)\n",
    "\n",
    "    try:\n",
    "        driver.implicitly_wait(10)\n",
    "        driver.execute_script(\"window.scrollTo(0, document.body.scrollHeight);\")\n",
    "\n",
    "        # agree to terms\n",
    "        driver.find_element(By.XPATH, \"//label[contains(text(), '上記の内容を確認しました')]\").click()\n",
    "\n",
    "        # click on next\n",
    "        driver.find_element(By.CSS_SELECTOR, \"a.v-btn\").click()\n",
    "\n",
    "        # popup click on ok\n",
    "        driver.find_element(By.CSS_SELECTOR, \".v-card__actions button.v-btn\").click()\n",
    "        \n",
    "        # number of guests\n",
    "        driver.find_element(By.CSS_SELECTOR, \".reserve-card .layout div.v-input\").click()\n",
    "        driver.find_element(By.XPATH, \"//div[contains(@id, '\"+ str(num_of_guests) +\"')]\").click()\n",
    "\n",
    "        # select next month\n",
    "        driver.find_element(By.XPATH, \"//button//span[contains(text(), '\" + str(month) + \"月')]\").click()\n",
    "\n",
    "        # chnage language\n",
    "        driver.find_element(By.XPATH, \"//button//span//span[contains(text(), 'JP')]\").click()\n",
    "        driver.find_element(By.XPATH, \"//div//div[contains(text(), 'Eng')]\").click()\n",
    "\n",
    "    except NoSuchElementException as e:\n",
    "        print(e)\n",
    "        pass"
   ]
  },
  {
   "attachments": {},
   "cell_type": "markdown",
   "metadata": {},
   "source": [
    "## Step 4. Create the reservation \n",
    "\n",
    "Each iteration will create a reservation for the next month using the day_of_month as an input. The variable num_of_guest sets the number of people. Adjust these parameters to your needs. The variable num_of_iterations sets the number of iterations. The default is 2, so it will open two browser sessions, one after the other. If you want to create five consecutive attempts, set the num_of_iterations to 5. "
   ]
  },
  {
   "cell_type": "code",
   "execution_count": 83,
   "metadata": {},
   "outputs": [
    {
     "data": {
      "text/plain": [
       "[None]"
      ]
     },
     "execution_count": 83,
     "metadata": {},
     "output_type": "execute_result"
    }
   ],
   "source": [
    "num_iterations = 1\n",
    "next_month=3\n",
    "day_of_month='10'\n",
    "num_of_guests=2\n",
    "[create_booking(day_of_month, next_month, num_of_guests) for x in range(num_iterations)]"
   ]
  }
 ],
 "metadata": {
  "kernelspec": {
   "display_name": "Python 3",
   "language": "python",
   "name": "python3"
  },
  "language_info": {
   "codemirror_mode": {
    "name": "ipython",
    "version": 3
   },
   "file_extension": ".py",
   "mimetype": "text/x-python",
   "name": "python",
   "nbconvert_exporter": "python",
   "pygments_lexer": "ipython3",
   "version": "3.12.0"
  },
  "orig_nbformat": 4
 },
 "nbformat": 4,
 "nbformat_minor": 2
}
